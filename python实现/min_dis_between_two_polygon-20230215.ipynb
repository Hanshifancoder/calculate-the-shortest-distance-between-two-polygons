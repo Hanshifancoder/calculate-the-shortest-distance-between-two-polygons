{
 "cells": [
  {
   "attachments": {},
   "cell_type": "markdown",
   "metadata": {},
   "source": [
    "### 定义一个类用来解决求两个多边形之间最近的距离\n",
    "1. **分为如下几种情况进行讨论：**\n",
    "    - 如果两个多边形相交但不相互包含，最短距离为0\n",
    "    - 如果两个多边形相互包含和两个多边形不相交则找到一个多边形的所有顶点到另外一个多边形边之间的最短距离，这个最短的距离就是两个多边形之间的最短距离\n",
    "        - 这里需要区分的是我们求的是点到线段的最短距离与点到直线的最短距离之间是有一定的差别的\n",
    "        - 点到线段的距离要分为三种情况进行讨论\n",
    "            - 点到线段的垂足在线段上：点到线段的最短距离即为点到直线的最短距离\n",
    "            - 点到线段的垂足不线段上，而是在线段的延长线上：此时点到线段的最短距离是点到线段两端的端点的距离的较小值\n",
    "2. **计算点到线段的最短距离**\n",
    "\n",
    "    如果要计算点I(xi, yi)到线段[A, B]的最短距离，其中A的坐标为(xa, ya)，B的坐标为(xb, yb)\n",
    "    \n",
    "    首先把线段AB所在的直线方程用参数化表示如下：\n",
    "    \n",
    "    ```x = (xb-xa)*k + xa```\n",
    "    \n",
    "    ```y = (yb-ya)*k + ya```\n",
    "\n",
    "    假设点I在线段AB所在直线上的投影点为P，为了得到P点的坐标我们首先将点到直线上所有点的长度用参数k表示为\n",
    "\n",
    "    ```d = a*k^2+b*k```\n",
    "\n",
    "    ```a = (xa-xb)^2+(ya-yb)^2```\n",
    "\n",
    "    ```b = 2((xa-xb)(xa-xi)+(ya-yb)(ya-yi))```\n",
    "\n",
    "    得到P对应的参数k为k=-b/(2a)，分为如下几种情况进行讨论\n",
    "\n",
    "    if k < 0: P点落在A点之前，此时最小距离为dmin = distance(I, A)\n",
    "\n",
    "    if k > 1: P点落在B点之后，此时最小距离为dmin = distance(I, B)\n",
    "\n",
    "    if 0 < k < 1: P点落在线段AB上，此时最小距离为dmin = distance(I, P)\n",
    "3. **计算两个多边形之间的最短距离的实际应用**\n",
    "    - 计算地块内建筑之间的距离是否满足消防间距的要求\n",
    "    - 计算地块内建筑与地块边界之间的距离是否满足建筑红线的要求\n",
    "4. 本python代码是基于repository中matlab代码修改的，最初的解决方案源于该matlab代码，该matlab代码来源于matlab中文论坛上面的一个答主的解决方案，[链接在此](https://www.ilovematlab.cn/thread-20508-1-1.html?_dsign=af3fb928)\n",
    "5. **代码经过严格的测试和验证能确保同样的输入数据python代码的结果和matlab代码的结果是吻合的，matlab代码一个很大的优点是可以对两个polygon的最短的距离进行可视化**\n",
    "    \n"
   ]
  },
  {
   "attachments": {},
   "cell_type": "markdown",
   "metadata": {},
   "source": [
    "- 导入各种需要的包和库"
   ]
  },
  {
   "cell_type": "code",
   "execution_count": 1,
   "metadata": {},
   "outputs": [],
   "source": [
    "import geopandas as gpd\n",
    "from shapely.geometry import Polygon\n",
    "import numpy as np \n"
   ]
  },
  {
   "attachments": {},
   "cell_type": "markdown",
   "metadata": {},
   "source": [
    "- 定义两个多边形之间最短距离的类"
   ]
  },
  {
   "cell_type": "code",
   "execution_count": 2,
   "metadata": {},
   "outputs": [],
   "source": [
    "class min_dis_between_two_polygon(object):\n",
    "    '''\n",
    "    输入数据：\n",
    "    p1、p2: Polygon数据类型（坐标系需要是笛卡尔坐标系-以米为单位，如果是经纬度坐标系则需要转换为笛卡尔坐标系）\n",
    "    '''\n",
    "    def __init__(self, p1, p2):  # 初始化需要输入的数据\n",
    "        # p1和p2表示两个polygon的数据\n",
    "        self.p1 = p1 \n",
    "        self.p2 = p2\n",
    "        self.p1_coords = np.array(p1.boundary.coords)\n",
    "        self.p2_coords = np.array(p2.boundary.coords)\n",
    "\n",
    "    def min_dis_between_point_segment(self, point_set, segment_set):\n",
    "        # point_set表示p2的闭合的所有坐标点，数据类型为np.array的形式\n",
    "        # segment_set表示p1的闭合的所有坐标点\n",
    "\n",
    "        # 获得p1中每个线段的长度\n",
    "        dP1x = np.diff(segment_set[:, 0])  # 所有点横坐标的差值\n",
    "        dP1y = np.diff(segment_set[:, 1])  # 所有点纵坐标的差值\n",
    "        sdP12 = dP1x**2 + dP1y**2  # 记录每条线段的长度\n",
    "        if any(sdP12 == 0):\n",
    "            print('多边形的坐标点中至少有两个重叠的点！')\n",
    "        K1 = np.zeros((len(dP1x), len(point_set)))\n",
    "        D1 = np.zeros((len(dP1x), len(point_set)))\n",
    "        \n",
    "        # 遍历多边形上的每条边\n",
    "        for i in range(len(segment_set)-1):\n",
    "            k = -(dP1x[i]*(segment_set[i, 0]-point_set[:, 0])+dP1y[i]*(segment_set[i, 1]-point_set[:, 1]))/sdP12[i]\n",
    "            # 对k分三种情况进行讨论\n",
    "            I1 = k < 0\n",
    "            I2 = k > 1\n",
    "            # I = not (I1 or I2)  # 这里要进行变形\n",
    "            I = list(map(lambda x, y: not(x or y), I1, I2))\n",
    "            # 三种距离的计算\n",
    "            D1[i, I1] = (point_set[I1, 0]-segment_set[i, 0])**2 + (point_set[I1, 1]-segment_set[i, 1])**2\n",
    "            D1[i, I2] = (point_set[I2, 0]-segment_set[i+1, 0])**2 + (point_set[I2, 1]-segment_set[i+1, 1])**2\n",
    "            D1[i, I] = (point_set[I, 0]-(segment_set[i, 0]+k[I]*dP1x[i]))**2 +(point_set[I, 1]-(segment_set[i, 1]+k[I]*dP1y[i]))**2\n",
    "            K1[i, :] = k\n",
    "        return np.min(D1)\n",
    "\n",
    "    def min_dis_between_polygon(self):\n",
    "        # 首先判断两个多边形是否相交\n",
    "        if self.p1.intersects(self.p2):\n",
    "            # 这里分为两种情况，一种情况是只有部分相交，一种情况是具有包含关系\n",
    "            if not (self.p1.contains(self.p2) or self.p2.contains(self.p1)):  # 部分相交关系\n",
    "                return 0\n",
    "        return np.sqrt(min(self.min_dis_between_point_segment(self.p1_coords, self.p2_coords), self.min_dis_between_point_segment(self.p2_coords, self.p1_coords)))\n",
    "\n",
    "\n"
   ]
  },
  {
   "attachments": {},
   "cell_type": "markdown",
   "metadata": {},
   "source": [
    "- 测试一：两个多边形不相交"
   ]
  },
  {
   "cell_type": "code",
   "execution_count": 3,
   "metadata": {},
   "outputs": [
    {
     "data": {
      "image/svg+xml": "<svg xmlns=\"http://www.w3.org/2000/svg\" xmlns:xlink=\"http://www.w3.org/1999/xlink\" width=\"100.0\" height=\"100.0\" viewBox=\"-0.04 -0.04 1.08 1.08\" preserveAspectRatio=\"xMinYMin meet\"><g transform=\"matrix(1,0,0,-1,0,1.0)\"><path fill-rule=\"evenodd\" fill=\"#66cc99\" stroke=\"#555555\" stroke-width=\"0.0216\" opacity=\"0.6\" d=\"M 0.0,0.0 L 1.0,0.0 L 1.0,1.0 L 0.0,1.0 L 0.0,0.0 z\" /></g></svg>",
      "text/plain": [
       "<shapely.geometry.polygon.Polygon at 0x201b3d5bda0>"
      ]
     },
     "execution_count": 3,
     "metadata": {},
     "output_type": "execute_result"
    }
   ],
   "source": [
    "first_polygon = Polygon([(0, 0), (1, 0), (1, 1), (0, 1)])\n",
    "first_polygon"
   ]
  },
  {
   "cell_type": "code",
   "execution_count": 4,
   "metadata": {},
   "outputs": [
    {
     "data": {
      "image/svg+xml": "<svg xmlns=\"http://www.w3.org/2000/svg\" xmlns:xlink=\"http://www.w3.org/1999/xlink\" width=\"100.0\" height=\"100.0\" viewBox=\"1.96 -0.54 1.08 1.08\" preserveAspectRatio=\"xMinYMin meet\"><g transform=\"matrix(1,0,0,-1,0,0.0)\"><path fill-rule=\"evenodd\" fill=\"#66cc99\" stroke=\"#555555\" stroke-width=\"0.0216\" opacity=\"0.6\" d=\"M 2.0,-0.5 L 3.0,-0.5 L 3.0,0.5 L 2.0,0.5 L 2.0,-0.5 z\" /></g></svg>",
      "text/plain": [
       "<shapely.geometry.polygon.Polygon at 0x201c02d6390>"
      ]
     },
     "execution_count": 4,
     "metadata": {},
     "output_type": "execute_result"
    }
   ],
   "source": [
    "second_polygon = Polygon([(2, -0.5), (3, -0.5), (3, 0.5), (2, 0.5)])\n",
    "second_polygon"
   ]
  },
  {
   "attachments": {},
   "cell_type": "markdown",
   "metadata": {},
   "source": [
    "- 将多边形坐标数据转换为matlab中代码需要的struct数据类型和放在matlab中跑出一个结果用来与python跑出的结果进行对比"
   ]
  },
  {
   "cell_type": "code",
   "execution_count": 5,
   "metadata": {},
   "outputs": [],
   "source": [
    "import scipy.io\n",
    "first_polygon_x = np.array(first_polygon.boundary.coords)[:, 0].tolist()\n",
    "first_polygon_y = np.array(first_polygon.boundary.coords)[:, 1].tolist()\n",
    "scipy.io.savemat('first_polygon.mat', mdict={'x': first_polygon_x, 'y': first_polygon_y})"
   ]
  },
  {
   "cell_type": "code",
   "execution_count": 6,
   "metadata": {},
   "outputs": [],
   "source": [
    "second_polygon_x = np.array(second_polygon.boundary.coords)[:, 0].tolist()\n",
    "second_polygon_y = np.array(second_polygon.boundary.coords)[:, 1].tolist()\n",
    "scipy.io.savemat('second_polygon.mat', mdict={'x': second_polygon_x, 'y': second_polygon_y})"
   ]
  },
  {
   "cell_type": "code",
   "execution_count": 7,
   "metadata": {},
   "outputs": [
    {
     "data": {
      "text/plain": [
       "1.0"
      ]
     },
     "execution_count": 7,
     "metadata": {},
     "output_type": "execute_result"
    }
   ],
   "source": [
    "min_dis_second = min_dis_between_two_polygon(first_polygon, second_polygon)\n",
    "min_dis_second.min_dis_between_polygon()"
   ]
  },
  {
   "attachments": {},
   "cell_type": "markdown",
   "metadata": {},
   "source": [
    "- 测试二：两个多边形相互包含"
   ]
  },
  {
   "cell_type": "code",
   "execution_count": 9,
   "metadata": {},
   "outputs": [
    {
     "data": {
      "text/plain": [
       "<matplotlib.axes._subplots.AxesSubplot at 0x201c3819eb8>"
      ]
     },
     "execution_count": 9,
     "metadata": {},
     "output_type": "execute_result"
    },
    {
     "data": {
      "image/png": "[encoded data removed]",
      "text/plain": [
       "<Figure size 432x288 with 1 Axes>"
      ]
     },
     "metadata": {
      "needs_background": "light"
     },
     "output_type": "display_data"
    }
   ],
   "source": [
    "small_polygon = Polygon([(0, 0.5), (1, 0.5), (1, 1.5), (0, 1.5)])\n",
    "big_polygon = Polygon([(-1, 0), (2, 0), (2, 2), (-1, 2)])\n",
    "ax = gpd.GeoSeries(small_polygon).plot(color='red')\n",
    "gpd.GeoSeries(big_polygon).plot(color='green', ax=ax, alpha=0.5)"
   ]
  },
  {
   "cell_type": "code",
   "execution_count": 10,
   "metadata": {},
   "outputs": [
    {
     "data": {
      "text/plain": [
       "0.5"
      ]
     },
     "execution_count": 10,
     "metadata": {},
     "output_type": "execute_result"
    }
   ],
   "source": [
    "min_dis_third = min_dis_between_two_polygon(small_polygon, big_polygon)\n",
    "min_dis_third.min_dis_between_polygon()"
   ]
  },
  {
   "cell_type": "code",
   "execution_count": null,
   "metadata": {},
   "outputs": [],
   "source": []
  }
 ],
 "metadata": {
  "kernelspec": {
   "display_name": "base",
   "language": "python",
   "name": "python3"
  },
  "language_info": {
   "codemirror_mode": {
    "name": "ipython",
    "version": 3
   },
   "file_extension": ".py",
   "mimetype": "text/x-python",
   "name": "python",
   "nbconvert_exporter": "python",
   "pygments_lexer": "ipython3",
   "version": "3.7.0"
  },
  "orig_nbformat": 4,
  "vscode": {
   "interpreter": {
    "hash": "e42634819b8c191a5d07eaf23810ff32516dd8d3875f28ec3e488928fbd3c187"
   }
  }
 },
 "nbformat": 4,
 "nbformat_minor": 2
}
